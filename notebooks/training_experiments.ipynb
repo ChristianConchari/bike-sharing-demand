{
 "cells": [
  {
   "cell_type": "markdown",
   "metadata": {},
   "source": [
    "# Training experiments"
   ]
  },
  {
   "cell_type": "markdown",
   "metadata": {},
   "source": [
    "In this code, we will train different models to explore different options for solving the problem."
   ]
  },
  {
   "cell_type": "markdown",
   "metadata": {},
   "source": [
    "## Import libraries and data"
   ]
  },
  {
   "cell_type": "code",
   "execution_count": 27,
   "metadata": {},
   "outputs": [],
   "source": [
    "import mlflow\n",
    "from datetime import datetime\n",
    "import awswrangler as wr\n",
    "import random\n",
    "import numpy as np\n",
    "from sklearn.model_selection import train_test_split, GridSearchCV\n",
    "from sklearn.preprocessing import StandardScaler\n",
    "from sklearn.linear_model import Lasso\n",
    "from sklearn.metrics import mean_squared_error, mean_absolute_error, r2_score, root_mean_squared_error\n",
    "from mlflow import MlflowClient"
   ]
  },
  {
   "cell_type": "markdown",
   "metadata": {},
   "source": [
    "Export the necessary environment variables for working with Minio."
   ]
  },
  {
   "cell_type": "code",
   "execution_count": 6,
   "metadata": {},
   "outputs": [
    {
     "name": "stdout",
     "output_type": "stream",
     "text": [
      "env: AWS_ACCESS_KEY_ID=minio\n",
      "env: AWS_SECRET_ACCESS_KEY=minio123\n",
      "env: MLFLOW_S3_ENDPOINT_URL=http://localhost:9000\n",
      "env: AWS_ENDPOINT_URL_S3=http://localhost:9000\n"
     ]
    }
   ],
   "source": [
    "# Export environment variables\n",
    "%env AWS_ACCESS_KEY_ID=minio   \n",
    "%env AWS_SECRET_ACCESS_KEY=minio123 \n",
    "%env MLFLOW_S3_ENDPOINT_URL=http://localhost:9000\n",
    "%env AWS_ENDPOINT_URL_S3=http://localhost:9000"
   ]
  },
  {
   "cell_type": "code",
   "execution_count": 7,
   "metadata": {},
   "outputs": [],
   "source": [
    "mlflow_server = \"http://localhost:5000\"\n",
    "\n",
    "mlflow.set_tracking_uri(mlflow_server)"
   ]
  },
  {
   "cell_type": "markdown",
   "metadata": {},
   "source": [
    "Load the processed data from Minio.\n"
   ]
  },
  {
   "cell_type": "code",
   "execution_count": 9,
   "metadata": {},
   "outputs": [],
   "source": [
    "X_train = wr.s3.read_csv(\"s3://mlflow/data/train/bike_sharing_X_train_scaled.csv\")\n",
    "y_train = wr.s3.read_csv(\"s3://mlflow/data/train/bike_sharing_y_train.csv\")\n",
    "X_test = wr.s3.read_csv(\"s3://mlflow/data/test/bike_sharing_X_test_scaled.csv\")\n",
    "y_test = wr.s3.read_csv(\"s3://mlflow/data/test/bike_sharing_y_test.csv\")"
   ]
  },
  {
   "cell_type": "markdown",
   "metadata": {},
   "source": [
    "# Model training"
   ]
  },
  {
   "cell_type": "code",
   "execution_count": 10,
   "metadata": {},
   "outputs": [],
   "source": [
    "def get_or_create_experiment(experiment_name):\n",
    "    \"\"\"\n",
    "    Retrieve the ID of an existing MLflow experiment or create a new one if it doesn't exist.\n",
    "\n",
    "    Parameters:\n",
    "    - experiment_name (str): Name of the MLflow experiment.\n",
    "\n",
    "    Returns:\n",
    "    - str: ID of the existing or newly created MLflow experiment.\n",
    "    \"\"\"\n",
    "\n",
    "    if experiment := mlflow.get_experiment_by_name(experiment_name):\n",
    "        return experiment.experiment_id\n",
    "    else:\n",
    "        return mlflow.create_experiment(experiment_name)"
   ]
  },
  {
   "cell_type": "markdown",
   "metadata": {},
   "source": [
    "Initialize the mlflow experiment"
   ]
  },
  {
   "cell_type": "code",
   "execution_count": 11,
   "metadata": {},
   "outputs": [
    {
     "name": "stdout",
     "output_type": "stream",
     "text": [
      "Experiment ID: 3\n"
     ]
    }
   ],
   "source": [
    "experiment_id = get_or_create_experiment(\"experiment_1\")\n",
    "\n",
    "print(f\"Experiment ID: {experiment_id}\")"
   ]
  },
  {
   "cell_type": "code",
   "execution_count": 12,
   "metadata": {},
   "outputs": [],
   "source": [
    "run_name_parent = \"best_hyperparam_\"  + datetime.today().strftime('%Y/%m/%d-%H:%M:%S\"')"
   ]
  },
  {
   "cell_type": "markdown",
   "metadata": {},
   "source": [
    "Show the size of the training and test sets"
   ]
  },
  {
   "cell_type": "code",
   "execution_count": 13,
   "metadata": {},
   "outputs": [
    {
     "data": {
      "text/plain": [
       "((7620, 29), (7620, 1), (3266, 29), (3266, 1))"
      ]
     },
     "execution_count": 13,
     "metadata": {},
     "output_type": "execute_result"
    }
   ],
   "source": [
    "X_train.shape, y_train.shape, X_test.shape, y_test.shape"
   ]
  },
  {
   "cell_type": "markdown",
   "metadata": {},
   "source": [
    "Data normalization is an important step before training the model. "
   ]
  },
  {
   "cell_type": "code",
   "execution_count": 19,
   "metadata": {},
   "outputs": [
    {
     "name": "stderr",
     "output_type": "stream",
     "text": [
      "Successfully registered model 'bike_sharing_model_dev'.\n",
      "2024/08/24 17:16:06 INFO mlflow.store.model_registry.abstract_store: Waiting up to 300 seconds for model version to finish creation. Model name: bike_sharing_model_dev, version 1\n",
      "Created version '1' of model 'bike_sharing_model_dev'.\n",
      "2024/08/24 17:16:06 INFO mlflow.tracking._tracking_service.client: 🏃 View run best_hyperparam_2024/08/24-17:14:34\" at: http://localhost:5000/#/experiments/3/runs/5632584607634880894218dff5cc5ceb.\n",
      "2024/08/24 17:16:06 INFO mlflow.tracking._tracking_service.client: 🧪 View experiment at: http://localhost:5000/#/experiments/3.\n"
     ]
    },
    {
     "name": "stdout",
     "output_type": "stream",
     "text": [
      "Best Lasso model logged with MSE: 0.48735500986315056, RMSE: 0.698108164873575, MAE: 0.5285139092129088, R²: 0.7550719517689486\n",
      "Best Lasso parameters: {'alpha': 0.1, 'fit_intercept': True, 'max_iter': 1000}\n"
     ]
    }
   ],
   "source": [
    "# Define the parameter grid for Lasso Regression\n",
    "param_grid_lasso = {\n",
    "    'alpha': [0.1, 0.5, 1.0, 2.0, 5.0], \n",
    "    'fit_intercept': [True, False],\n",
    "    'max_iter': [1000, 5000, 10000],\n",
    "}\n",
    "\n",
    "# Initialize the Lasso Regression model\n",
    "lasso_model = Lasso()\n",
    "\n",
    "# Set up Grid Search with 5-fold cross-validation\n",
    "grid_search_lasso = GridSearchCV(estimator=lasso_model, param_grid=param_grid_lasso, cv=5, scoring='neg_mean_squared_error')\n",
    "\n",
    "# Start the MLflow run\n",
    "with mlflow.start_run(experiment_id=experiment_id, run_name=run_name_parent, nested=True):\n",
    "    # Perform the grid search and fit the model\n",
    "    grid_search_lasso.fit(X_train, y_train)\n",
    "    \n",
    "    # Get the best model from the grid search\n",
    "    best_lasso_model = grid_search_lasso.best_estimator_\n",
    "    \n",
    "    # Make predictions using the best model\n",
    "    lasso_predictions = best_lasso_model.predict(X_test)\n",
    "    \n",
    "    # Calculate metrics\n",
    "    mse_lasso = mean_squared_error(y_test, lasso_predictions)\n",
    "    rmse_lasso = root_mean_squared_error(y_test, lasso_predictions)\n",
    "    mae_lasso = mean_absolute_error(y_test, lasso_predictions)\n",
    "    r2_lasso = r2_score(y_test, lasso_predictions)\n",
    "    \n",
    "    # Log the best parameters and metrics to MLflow\n",
    "    mlflow.log_param(\"best_lasso_alpha\", best_lasso_model.alpha)\n",
    "    mlflow.log_param(\"best_lasso_fit_intercept\", best_lasso_model.fit_intercept)\n",
    "    mlflow.log_param(\"best_lasso_max_iter\", best_lasso_model.max_iter)\n",
    "    \n",
    "    mlflow.log_metric(\"lasso_mse\", mse_lasso)\n",
    "    mlflow.log_metric(\"lasso_rmse\", rmse_lasso)\n",
    "    mlflow.log_metric(\"lasso_mae\", mae_lasso)\n",
    "    mlflow.log_metric(\"lasso_r2\", r2_lasso)\n",
    "    \n",
    "    # Get the first row of the test set and log it to MLflow\n",
    "    input_example = X_test[0:1] \n",
    "    \n",
    "    # Define the artifact path\n",
    "    artifact_path = \"best_lasso_model\"\n",
    "    \n",
    "    # Infer the schema of the input example\n",
    "    signature = mlflow.models.infer_signature(X_train, best_lasso_model.predict(X_train))\n",
    "    \n",
    "    # Log the best Lasso model to the MLflow server\n",
    "    mlflow.sklearn.log_model(\n",
    "        sk_model=best_lasso_model,\n",
    "        artifact_path=artifact_path,\n",
    "        signature=signature,\n",
    "        serialization_format='cloudpickle',\n",
    "        registered_model_name='bike_sharing_model_dev',\n",
    "        metadata = {'model_data_version': 1}\n",
    "    )\n",
    "    \n",
    "    # Get the URI of the logged model\n",
    "    model_uri = mlflow.get_artifact_uri(artifact_path)\n",
    "    \n",
    "    # Print the results\n",
    "    print(f\"Best Lasso model logged with MSE: {mse_lasso}, RMSE: {rmse_lasso}, MAE: {mae_lasso}, R²: {r2_lasso}\")\n",
    "    print(f\"Best Lasso parameters: {grid_search_lasso.best_params_}\")\n"
   ]
  },
  {
   "cell_type": "markdown",
   "metadata": {},
   "source": [
    "## Testing the model"
   ]
  },
  {
   "cell_type": "code",
   "execution_count": 20,
   "metadata": {},
   "outputs": [],
   "source": [
    "loaded_model = mlflow.sklearn.load_model(model_uri)"
   ]
  },
  {
   "cell_type": "code",
   "execution_count": 32,
   "metadata": {},
   "outputs": [],
   "source": [
    "X_test = np.array(X_test)"
   ]
  },
  {
   "cell_type": "code",
   "execution_count": 33,
   "metadata": {},
   "outputs": [
    {
     "name": "stdout",
     "output_type": "stream",
     "text": [
      "Input example: [ 0.34607893  1.67100084 -0.4643816  -0.73230331 -0.17362994  0.67971372\n",
      " -1.00447194 -0.59331502 -0.28863409 -0.01145648 -0.30021452 -0.30228766\n",
      " -0.29551441 -0.30614959  3.29684074 -0.3007337  -0.30666209 -0.29787071\n",
      " -0.30306265 -0.3046087  -0.30254614 -0.40571344 -0.41009042 -0.41096342\n",
      "  2.46213211 -0.40921663 -0.40899806  0.39202798  1.27644489]\n"
     ]
    }
   ],
   "source": [
    "# Get a random element from test set\n",
    "input_example = X_test[random.randint(0, X_test.shape[0])] \n",
    "\n",
    "print(f\"Input example: {input_example}\")"
   ]
  },
  {
   "cell_type": "code",
   "execution_count": 38,
   "metadata": {},
   "outputs": [
    {
     "name": "stderr",
     "output_type": "stream",
     "text": [
      "/home/chris/bike-sharing-demand/venv/lib/python3.10/site-packages/sklearn/base.py:493: UserWarning: X does not have valid feature names, but Lasso was fitted with feature names\n",
      "  warnings.warn(\n",
      "/tmp/ipykernel_93422/2657843492.py:1: DeprecationWarning: Conversion of an array with ndim > 0 to a scalar is deprecated, and will error in future. Ensure you extract a single element from your array before performing this operation. (Deprecated NumPy 1.25.)\n",
      "  int(np.exp(loaded_model.predict(input_example.reshape(1, -1))) - 1)\n"
     ]
    },
    {
     "data": {
      "text/plain": [
       "39"
      ]
     },
     "execution_count": 38,
     "metadata": {},
     "output_type": "execute_result"
    }
   ],
   "source": [
    "int(np.exp(loaded_model.predict(input_example.reshape(1, -1))) - 1)"
   ]
  },
  {
   "cell_type": "markdown",
   "metadata": {},
   "source": [
    "## Register the model"
   ]
  },
  {
   "cell_type": "code",
   "execution_count": 39,
   "metadata": {},
   "outputs": [
    {
     "name": "stderr",
     "output_type": "stream",
     "text": [
      "2024/08/24 17:22:10 INFO mlflow.store.model_registry.abstract_store: Waiting up to 300 seconds for model version to finish creation. Model name: bike_sharing_model_prod, version 1\n"
     ]
    }
   ],
   "source": [
    "client = MlflowClient()\n",
    "\n",
    "name = \"bike_sharing_model_prod\"\n",
    "desc = \"Production model for bike sharing demand prediction\"\n",
    "\n",
    "client.create_registered_model(name=name, description=desc)\n",
    "\n",
    "tags = best_lasso_model.get_params()\n",
    "tags[\"model\"] = type(best_lasso_model).__name__\n",
    "tags[\"mse\"] = mse_lasso\n",
    "\n",
    "result = client.create_model_version(\n",
    "    name=name,\n",
    "    source=model_uri,\n",
    "    run_id=model_uri.split(\"/\")[-3],\n",
    "    tags=tags\n",
    ")\n",
    "\n",
    "client.set_registered_model_alias(name, \"best-model\", result.version)"
   ]
  },
  {
   "cell_type": "code",
   "execution_count": null,
   "metadata": {},
   "outputs": [],
   "source": []
  }
 ],
 "metadata": {
  "kernelspec": {
   "display_name": "bike-sharing-demand-GBgSRmEk-py3.9",
   "language": "python",
   "name": "python3"
  },
  "language_info": {
   "codemirror_mode": {
    "name": "ipython",
    "version": 3
   },
   "file_extension": ".py",
   "mimetype": "text/x-python",
   "name": "python",
   "nbconvert_exporter": "python",
   "pygments_lexer": "ipython3",
   "version": "3.10.12"
  }
 },
 "nbformat": 4,
 "nbformat_minor": 2
}
