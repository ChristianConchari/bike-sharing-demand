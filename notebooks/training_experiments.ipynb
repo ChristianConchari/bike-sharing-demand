{
 "cells": [
  {
   "cell_type": "markdown",
   "metadata": {},
   "source": [
    "# Training experiments"
   ]
  },
  {
   "cell_type": "markdown",
   "metadata": {},
   "source": [
    "In this code, we will train different models to explore different options for solving the problem."
   ]
  },
  {
   "cell_type": "markdown",
   "metadata": {},
   "source": [
    "## Import libraries and data"
   ]
  },
  {
   "cell_type": "code",
   "execution_count": 226,
   "metadata": {},
   "outputs": [],
   "source": [
    "import mlflow\n",
    "from datetime import datetime\n",
    "import awswrangler as wr\n",
    "import random\n",
    "import numpy as np\n",
    "from sklearn.model_selection import train_test_split, GridSearchCV\n",
    "from sklearn.preprocessing import StandardScaler\n",
    "from sklearn.ensemble import RandomForestRegressor\n",
    "from sklearn.metrics import mean_squared_error, mean_absolute_error, r2_score, root_mean_squared_error\n",
    "from mlflow import MlflowClient"
   ]
  },
  {
   "cell_type": "markdown",
   "metadata": {},
   "source": [
    "Export the necessary environment variables for working with Minio."
   ]
  },
  {
   "cell_type": "code",
   "execution_count": 227,
   "metadata": {},
   "outputs": [
    {
     "name": "stdout",
     "output_type": "stream",
     "text": [
      "env: AWS_ACCESS_KEY_ID=minio\n",
      "env: AWS_SECRET_ACCESS_KEY=minio123\n",
      "env: MLFLOW_S3_ENDPOINT_URL=http://localhost:9000\n",
      "env: AWS_ENDPOINT_URL_S3=http://localhost:9000\n"
     ]
    }
   ],
   "source": [
    "# Export environment variables\n",
    "%env AWS_ACCESS_KEY_ID=minio   \n",
    "%env AWS_SECRET_ACCESS_KEY=minio123 \n",
    "%env MLFLOW_S3_ENDPOINT_URL=http://localhost:9000\n",
    "%env AWS_ENDPOINT_URL_S3=http://localhost:9000"
   ]
  },
  {
   "cell_type": "code",
   "execution_count": 228,
   "metadata": {},
   "outputs": [],
   "source": [
    "mlflow_server = \"http://localhost:5000\"\n",
    "\n",
    "mlflow.set_tracking_uri(mlflow_server)"
   ]
  },
  {
   "cell_type": "markdown",
   "metadata": {},
   "source": [
    "Load the processed data from Minio.\n"
   ]
  },
  {
   "cell_type": "code",
   "execution_count": 229,
   "metadata": {},
   "outputs": [],
   "source": [
    "X_train = wr.s3.read_csv(\"s3://data/train/bike_sharing_demand_X_train_scaled.csv\").values\n",
    "y_train = wr.s3.read_csv(\"s3://data/train/bike_sharing_demand_y_train.csv\").values.ravel()\n",
    "X_test = wr.s3.read_csv(\"s3://data/test/bike_sharing_demand_X_test_scaled.csv\").values\n",
    "y_test = wr.s3.read_csv(\"s3://data/test/bike_sharing_demand_y_test.csv\").values.ravel()"
   ]
  },
  {
   "cell_type": "markdown",
   "metadata": {},
   "source": [
    "# Model training"
   ]
  },
  {
   "cell_type": "code",
   "execution_count": 230,
   "metadata": {},
   "outputs": [],
   "source": [
    "def get_or_create_experiment(experiment_name):\n",
    "    \"\"\"\n",
    "    Retrieve the ID of an existing MLflow experiment or create a new one if it doesn't exist.\n",
    "\n",
    "    Parameters:\n",
    "    - experiment_name (str): Name of the MLflow experiment.\n",
    "\n",
    "    Returns:\n",
    "    - str: ID of the existing or newly created MLflow experiment.\n",
    "    \"\"\"\n",
    "\n",
    "    if experiment := mlflow.get_experiment_by_name(experiment_name):\n",
    "        return experiment.experiment_id\n",
    "    else:\n",
    "        return mlflow.create_experiment(experiment_name)"
   ]
  },
  {
   "cell_type": "markdown",
   "metadata": {},
   "source": [
    "Initialize the mlflow experiment"
   ]
  },
  {
   "cell_type": "code",
   "execution_count": 231,
   "metadata": {},
   "outputs": [
    {
     "name": "stdout",
     "output_type": "stream",
     "text": [
      "Experiment ID: 1\n"
     ]
    }
   ],
   "source": [
    "experiment_id = get_or_create_experiment(\"Bike Sharing Demand\")\n",
    "\n",
    "print(f\"Experiment ID: {experiment_id}\")"
   ]
  },
  {
   "cell_type": "code",
   "execution_count": 232,
   "metadata": {},
   "outputs": [],
   "source": [
    "run_name_parent = \"best_hyperparam_\"  + datetime.today().strftime('%Y/%m/%d-%H:%M:%S\"')"
   ]
  },
  {
   "cell_type": "markdown",
   "metadata": {},
   "source": [
    "Show the size of the training and test sets"
   ]
  },
  {
   "cell_type": "code",
   "execution_count": 233,
   "metadata": {},
   "outputs": [
    {
     "data": {
      "text/plain": [
       "((12165, 20), (12165,), (5214, 20), (5214,))"
      ]
     },
     "execution_count": 233,
     "metadata": {},
     "output_type": "execute_result"
    }
   ],
   "source": [
    "X_train.shape, y_train.shape, X_test.shape, y_test.shape"
   ]
  },
  {
   "cell_type": "markdown",
   "metadata": {},
   "source": [
    "Data normalization is an important step before training the model. "
   ]
  },
  {
   "cell_type": "code",
   "execution_count": 234,
   "metadata": {},
   "outputs": [
    {
     "name": "stderr",
     "output_type": "stream",
     "text": [
      "/home/chris/bike-sharing-demand/venv/lib/python3.10/site-packages/sklearn/metrics/_regression.py:492: FutureWarning: 'squared' is deprecated in version 1.4 and will be removed in 1.6. To calculate the root mean squared error, use the function'root_mean_squared_error'.\n",
      "  warnings.warn(\n",
      "/home/chris/bike-sharing-demand/venv/lib/python3.10/site-packages/_distutils_hack/__init__.py:16: UserWarning: Distutils was imported before Setuptools, but importing Setuptools also replaces the `distutils` module in `sys.modules`. This may lead to undesirable behaviors or errors. To avoid these issues, avoid using distutils directly, ensure that setuptools is installed in the traditional way (e.g. not an editable install), and/or make sure that setuptools is always imported before distutils.\n",
      "  warnings.warn(\n",
      "/home/chris/bike-sharing-demand/venv/lib/python3.10/site-packages/_distutils_hack/__init__.py:31: UserWarning: Setuptools is replacing distutils. Support for replacing an already imported distutils is deprecated. In the future, this condition will fail. Register concerns at https://github.com/pypa/setuptools/issues/new?template=distutils-deprecation.yml\n",
      "  warnings.warn(\n",
      "Successfully registered model 'bike_sharing_model_dev'.\n",
      "2024/08/25 03:11:21 INFO mlflow.store.model_registry.abstract_store: Waiting up to 300 seconds for model version to finish creation. Model name: bike_sharing_model_dev, version 1\n",
      "Created version '1' of model 'bike_sharing_model_dev'.\n",
      "2024/08/25 03:11:21 INFO mlflow.tracking._tracking_service.client: 🏃 View run best_hyperparam_2024/08/25-03:10:14\" at: http://localhost:5000/#/experiments/1/runs/b3829756df47402cb9483b27a1643e3c.\n",
      "2024/08/25 03:11:21 INFO mlflow.tracking._tracking_service.client: 🧪 View experiment at: http://localhost:5000/#/experiments/1.\n"
     ]
    },
    {
     "name": "stdout",
     "output_type": "stream",
     "text": [
      "Best Random Forest model logged with MSE: 0.14847120183602538, RMSE: 0.3853196099811498, MAE: 0.25733299972348506, R²: 0.9329953227239205\n",
      "Best Random Forest parameters: {'n_estimators': 100}\n"
     ]
    }
   ],
   "source": [
    "# Define the parameter grid for Random Forest\n",
    "param_grid_rf = {\n",
    "    'n_estimators': [100, 150], \n",
    "    #'max_depth': [None, 10, 15],\n",
    "    #'bootstrap': [True, False]\n",
    "}\n",
    "\n",
    "# Initialize the Random Forest Regressor model\n",
    "rf_model = RandomForestRegressor()\n",
    "\n",
    "# Set up Grid Search with 5-fold cross-validation\n",
    "grid_search_rf = GridSearchCV(estimator=rf_model, param_grid=param_grid_rf, cv=5, scoring='neg_mean_squared_error')\n",
    "\n",
    "# Start the MLflow run\n",
    "with mlflow.start_run(experiment_id=experiment_id, run_name=run_name_parent, nested=True):\n",
    "    # Perform the grid search and fit the model\n",
    "    grid_search_rf.fit(X_train, y_train)\n",
    "    \n",
    "    # Get the best model from the grid search\n",
    "    best_rf_model = grid_search_rf.best_estimator_\n",
    "    \n",
    "    # Make predictions using the best model\n",
    "    rf_predictions = best_rf_model.predict(X_test)\n",
    "    \n",
    "    # Calculate metrics\n",
    "    mse_rf = mean_squared_error(y_test, rf_predictions)\n",
    "    rmse_rf = mean_squared_error(y_test, rf_predictions, squared=False)\n",
    "    mae_rf = mean_absolute_error(y_test, rf_predictions)\n",
    "    r2_rf = r2_score(y_test, rf_predictions)\n",
    "    \n",
    "    # Log the best parameters and metrics to MLflow\n",
    "    mlflow.log_param(\"best_rf_n_estimators\", best_rf_model.n_estimators)\n",
    "    mlflow.log_param(\"best_rf_max_depth\", best_rf_model.max_depth)\n",
    "    mlflow.log_param(\"best_rf_min_samples_split\", best_rf_model.min_samples_split)\n",
    "    mlflow.log_param(\"best_rf_min_samples_leaf\", best_rf_model.min_samples_leaf)\n",
    "    mlflow.log_param(\"best_rf_bootstrap\", best_rf_model.bootstrap)\n",
    "    \n",
    "    mlflow.log_metric(\"rf_mse\", mse_rf)\n",
    "    mlflow.log_metric(\"rf_rmse\", rmse_rf)\n",
    "    mlflow.log_metric(\"rf_mae\", mae_rf)\n",
    "    mlflow.log_metric(\"rf_r2\", r2_rf)\n",
    "    \n",
    "    # Get the first row of the test set and log it to MLflow\n",
    "    input_example = X_test[0:1]\n",
    "    \n",
    "    # Define the artifact path\n",
    "    artifact_path = \"best_rf_model\"\n",
    "    \n",
    "    # Infer the schema of the input example\n",
    "    signature = mlflow.models.infer_signature(X_train, best_rf_model.predict(X_train))\n",
    "    \n",
    "    # Log the best Random Forest model to the MLflow server\n",
    "    mlflow.sklearn.log_model(\n",
    "        sk_model=best_rf_model,\n",
    "        artifact_path=artifact_path,\n",
    "        signature=signature,\n",
    "        serialization_format='cloudpickle',\n",
    "        registered_model_name='bike_sharing_model_dev',\n",
    "        metadata={'model_data_version': 1}\n",
    "    )\n",
    "    \n",
    "    # Get the URI of the logged model\n",
    "    model_uri = mlflow.get_artifact_uri(artifact_path)\n",
    "    \n",
    "    # Print the results\n",
    "    print(f\"Best Random Forest model logged with MSE: {mse_rf}, RMSE: {rmse_rf}, MAE: {mae_rf}, R²: {r2_rf}\")\n",
    "    print(f\"Best Random Forest parameters: {grid_search_rf.best_params_}\")"
   ]
  },
  {
   "cell_type": "markdown",
   "metadata": {},
   "source": [
    "## Testing the model"
   ]
  },
  {
   "cell_type": "code",
   "execution_count": 235,
   "metadata": {},
   "outputs": [],
   "source": [
    "loaded_model = mlflow.sklearn.load_model(model_uri)"
   ]
  },
  {
   "cell_type": "code",
   "execution_count": 236,
   "metadata": {},
   "outputs": [],
   "source": [
    "X_test = np.array(X_test)"
   ]
  },
  {
   "cell_type": "code",
   "execution_count": 237,
   "metadata": {},
   "outputs": [
    {
     "name": "stdout",
     "output_type": "stream",
     "text": [
      "Input example: [-1.003541   -0.16956604  0.68381845  0.7351559   1.3580773  -0.81836506\n",
      "  1.67734303 -0.29878575 -0.01282315 -0.58212799  1.68342244 -0.56997785\n",
      " -0.40854189 -0.39931795 -0.40771959  2.44527012 -0.40840489 -0.4120971\n",
      " -1.27528153  0.58022529]\n"
     ]
    }
   ],
   "source": [
    "# Get a random element from test set\n",
    "input_example = X_test[random.randint(0, X_test.shape[0])] \n",
    "\n",
    "print(f\"Input example: {input_example}\")"
   ]
  },
  {
   "cell_type": "code",
   "execution_count": 238,
   "metadata": {},
   "outputs": [
    {
     "name": "stderr",
     "output_type": "stream",
     "text": [
      "/tmp/ipykernel_101376/3514142192.py:1: DeprecationWarning: Conversion of an array with ndim > 0 to a scalar is deprecated, and will error in future. Ensure you extract a single element from your array before performing this operation. (Deprecated NumPy 1.25.)\n",
      "  int(np.exp(loaded_model.predict(input_example.reshape(1, -1))))\n"
     ]
    },
    {
     "data": {
      "text/plain": [
       "209"
      ]
     },
     "execution_count": 238,
     "metadata": {},
     "output_type": "execute_result"
    }
   ],
   "source": [
    "int(np.exp(loaded_model.predict(input_example.reshape(1, -1))))"
   ]
  },
  {
   "cell_type": "markdown",
   "metadata": {},
   "source": [
    "## Register the model"
   ]
  },
  {
   "cell_type": "code",
   "execution_count": 241,
   "metadata": {},
   "outputs": [
    {
     "name": "stderr",
     "output_type": "stream",
     "text": [
      "2024/08/25 03:54:48 INFO mlflow.store.model_registry.abstract_store: Waiting up to 300 seconds for model version to finish creation. Model name: bike_sharing_model_prod, version 1\n"
     ]
    }
   ],
   "source": [
    "client = MlflowClient()\n",
    "\n",
    "name = \"bike_sharing_model_prod\"\n",
    "desc = \"Production model for bike sharing demand prediction\"\n",
    "\n",
    "client.create_registered_model(name=name, description=desc)\n",
    "\n",
    "tags = best_rf_model.get_params()\n",
    "tags[\"model\"] = type(best_rf_model).__name__\n",
    "tags[\"mse\"] = mse_rf\n",
    "\n",
    "result = client.create_model_version(\n",
    "    name=name,\n",
    "    source=model_uri,\n",
    "    run_id=model_uri.split(\"/\")[-3],\n",
    "    tags=tags\n",
    ")\n",
    "\n",
    "client.set_registered_model_alias(name, \"champion\", result.version)"
   ]
  },
  {
   "cell_type": "code",
   "execution_count": null,
   "metadata": {},
   "outputs": [],
   "source": []
  }
 ],
 "metadata": {
  "kernelspec": {
   "display_name": "bike-sharing-demand-GBgSRmEk-py3.9",
   "language": "python",
   "name": "python3"
  },
  "language_info": {
   "codemirror_mode": {
    "name": "ipython",
    "version": 3
   },
   "file_extension": ".py",
   "mimetype": "text/x-python",
   "name": "python",
   "nbconvert_exporter": "python",
   "pygments_lexer": "ipython3",
   "version": "3.10.12"
  }
 },
 "nbformat": 4,
 "nbformat_minor": 2
}
